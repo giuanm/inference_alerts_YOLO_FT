{
  "nbformat": 4,
  "nbformat_minor": 0,
  "metadata": {
    "colab": {
      "provenance": [],
      "gpuType": "T4",
      "include_colab_link": true
    },
    "kernelspec": {
      "name": "python3",
      "display_name": "Python 3"
    },
    "language_info": {
      "name": "python"
    },
    "accelerator": "GPU"
  },
  "cells": [
    {
      "cell_type": "markdown",
      "metadata": {
        "id": "view-in-github",
        "colab_type": "text"
      },
      "source": [
        "<a href=\"https://colab.research.google.com/github/giuanm/inference_alerts_YOLO_FT/blob/main/hackathon_inference_alerts_V2.ipynb\" target=\"_parent\"><img src=\"https://colab.research.google.com/assets/colab-badge.svg\" alt=\"Open In Colab\"/></a>"
      ]
    },
    {
      "cell_type": "markdown",
      "source": [
        "Notebook para inferência do modelo YOLOv8 treinado,\n",
        "processamento de vídeos e envio de alertas por e-mail."
      ],
      "metadata": {
        "id": "P7b_yoUy4wjQ"
      }
    },
    {
      "cell_type": "code",
      "execution_count": null,
      "metadata": {
        "colab": {
          "base_uri": "https://localhost:8080/"
        },
        "id": "7g-Zbn6n4ka3",
        "outputId": "964615fe-acd3-4735-dbe5-126330591817"
      },
      "outputs": [
        {
          "output_type": "stream",
          "name": "stdout",
          "text": [
            "Mounted at /content/drive\n",
            "Google Drive Montado.\n"
          ]
        }
      ],
      "source": [
        "from google.colab import drive\n",
        "drive.mount('/content/drive')\n",
        "print(\"Google Drive Montado.\")"
      ]
    },
    {
      "cell_type": "code",
      "source": [
        "!pip install ultralytics==8.3.120 opencv-python-headless -q\n",
        "print(\"Bibliotecas instaladas.\")\n",
        "!pip show ultralytics"
      ],
      "metadata": {
        "colab": {
          "base_uri": "https://localhost:8080/"
        },
        "id": "TrPbh2ZI5EEb",
        "outputId": "942c2e23-1d92-471e-ac99-cbafa27329a2"
      },
      "execution_count": null,
      "outputs": [
        {
          "output_type": "stream",
          "name": "stdout",
          "text": [
            "\u001b[2K   \u001b[90m━━━━━━━━━━━━━━━━━━━━━━━━━━━━━━━━━━━━━━━━\u001b[0m \u001b[32m1.0/1.0 MB\u001b[0m \u001b[31m57.3 MB/s\u001b[0m eta \u001b[36m0:00:00\u001b[0m\n",
            "\u001b[2K   \u001b[90m━━━━━━━━━━━━━━━━━━━━━━━━━━━━━━━━━━━━━━━━\u001b[0m \u001b[32m363.4/363.4 MB\u001b[0m \u001b[31m4.5 MB/s\u001b[0m eta \u001b[36m0:00:00\u001b[0m\n",
            "\u001b[2K   \u001b[90m━━━━━━━━━━━━━━━━━━━━━━━━━━━━━━━━━━━━━━━━\u001b[0m \u001b[32m13.8/13.8 MB\u001b[0m \u001b[31m119.6 MB/s\u001b[0m eta \u001b[36m0:00:00\u001b[0m\n",
            "\u001b[2K   \u001b[90m━━━━━━━━━━━━━━━━━━━━━━━━━━━━━━━━━━━━━━━━\u001b[0m \u001b[32m24.6/24.6 MB\u001b[0m \u001b[31m59.3 MB/s\u001b[0m eta \u001b[36m0:00:00\u001b[0m\n",
            "\u001b[2K   \u001b[90m━━━━━━━━━━━━━━━━━━━━━━━━━━━━━━━━━━━━━━━━\u001b[0m \u001b[32m883.7/883.7 kB\u001b[0m \u001b[31m49.8 MB/s\u001b[0m eta \u001b[36m0:00:00\u001b[0m\n",
            "\u001b[2K   \u001b[90m━━━━━━━━━━━━━━━━━━━━━━━━━━━━━━━━━━━━━━━━\u001b[0m \u001b[32m664.8/664.8 MB\u001b[0m \u001b[31m2.0 MB/s\u001b[0m eta \u001b[36m0:00:00\u001b[0m\n",
            "\u001b[2K   \u001b[90m━━━━━━━━━━━━━━━━━━━━━━━━━━━━━━━━━━━━━━━━\u001b[0m \u001b[32m211.5/211.5 MB\u001b[0m \u001b[31m6.1 MB/s\u001b[0m eta \u001b[36m0:00:00\u001b[0m\n",
            "\u001b[2K   \u001b[90m━━━━━━━━━━━━━━━━━━━━━━━━━━━━━━━━━━━━━━━━\u001b[0m \u001b[32m56.3/56.3 MB\u001b[0m \u001b[31m13.4 MB/s\u001b[0m eta \u001b[36m0:00:00\u001b[0m\n",
            "\u001b[2K   \u001b[90m━━━━━━━━━━━━━━━━━━━━━━━━━━━━━━━━━━━━━━━━\u001b[0m \u001b[32m127.9/127.9 MB\u001b[0m \u001b[31m7.4 MB/s\u001b[0m eta \u001b[36m0:00:00\u001b[0m\n",
            "\u001b[2K   \u001b[90m━━━━━━━━━━━━━━━━━━━━━━━━━━━━━━━━━━━━━━━━\u001b[0m \u001b[32m207.5/207.5 MB\u001b[0m \u001b[31m5.4 MB/s\u001b[0m eta \u001b[36m0:00:00\u001b[0m\n",
            "\u001b[2K   \u001b[90m━━━━━━━━━━━━━━━━━━━━━━━━━━━━━━━━━━━━━━━━\u001b[0m \u001b[32m21.1/21.1 MB\u001b[0m \u001b[31m74.7 MB/s\u001b[0m eta \u001b[36m0:00:00\u001b[0m\n",
            "\u001b[?25hBibliotecas instaladas.\n",
            "Name: ultralytics\n",
            "Version: 8.3.120\n",
            "Summary: Ultralytics YOLO 🚀 for SOTA object detection, multi-object tracking, instance segmentation, pose estimation and image classification.\n",
            "Home-page: https://ultralytics.com\n",
            "Author: \n",
            "Author-email: Glenn Jocher <glenn.jocher@ultralytics.com>, Jing Qiu <jing.qiu@ultralytics.com>\n",
            "License: AGPL-3.0\n",
            "Location: /usr/local/lib/python3.11/dist-packages\n",
            "Requires: matplotlib, numpy, opencv-python, pandas, pillow, psutil, py-cpuinfo, pyyaml, requests, scipy, seaborn, torch, torchvision, tqdm, ultralytics-thop\n",
            "Required-by: \n"
          ]
        }
      ]
    },
    {
      "cell_type": "code",
      "source": [
        "import cv2\n",
        "import os\n",
        "import time\n",
        "import smtplib\n",
        "from email.message import EmailMessage\n",
        "from ultralytics import YOLO\n",
        "from google.colab import userdata\n",
        "import numpy as np\n",
        "\n",
        "print(\"Bibliotecas importadas.\")"
      ],
      "metadata": {
        "colab": {
          "base_uri": "https://localhost:8080/"
        },
        "id": "JgwGwgYB5rA4",
        "outputId": "2d9890e3-cb28-4633-c8ce-55f261d32a78"
      },
      "execution_count": null,
      "outputs": [
        {
          "output_type": "stream",
          "name": "stdout",
          "text": [
            "Creating new Ultralytics Settings v0.0.6 file ✅ \n",
            "View Ultralytics Settings with 'yolo settings' or at '/root/.config/Ultralytics/settings.json'\n",
            "Update Settings with 'yolo settings key=value', i.e. 'yolo settings runs_dir=path/to/dir'. For help see https://docs.ultralytics.com/quickstart/#ultralytics-settings.\n",
            "Bibliotecas importadas.\n"
          ]
        }
      ]
    },
    {
      "cell_type": "code",
      "source": [
        "MODEL_PATH = '/content/drive/MyDrive/PosTech_IA_Devs_Hackathon/runs/detect/yolov8l_kc_v3_A100_final/weights/best.pt'\n",
        "\n",
        "VIDEO_TEST_PATHS = [\n",
        "    '/content/drive/MyDrive/PosTech_IA_Devs_Hackathon/video.mp4'\n",
        "]\n",
        "\n",
        "if not VIDEO_TEST_PATHS:\n",
        "    print(\"!!!!!!!!!!!!!!!!!!!!!!!!!!!!!!!!!!!!!!!!!!!!!!!!!!!!!!!!!!!!\")\n",
        "    print(\"!!! ATENÇÃO: Defina os caminhos corretos para os vídeos   !!!\")\n",
        "    print(\"!!! de teste na variável VIDEO_TEST_PATHS                !!!\")\n",
        "    print(\"!!!!!!!!!!!!!!!!!!!!!!!!!!!!!!!!!!!!!!!!!!!!!!!!!!!!!!!!!!!!\")\n",
        "\n",
        "\n",
        "# Limiar de confiança para considerar uma detecção válida (0.0 a 1.0)\n",
        "CONFIDENCE_THRESHOLD = 0.65\n",
        "\n",
        "# Tempo de espera (em segundos) antes de enviar outro alerta para a MESMA classe\n",
        "COOLDOWN_SECONDS = 3\n",
        "\n",
        "print(f\"Carregando modelo FINAL: {MODEL_PATH}\")\n",
        "if os.path.exists(MODEL_PATH):\n",
        "    try:\n",
        "        model = YOLO(MODEL_PATH)\n",
        "        print(\"Modelo carregado com sucesso.\")\n",
        "        if hasattr(model, 'names') and isinstance(model.names, list):\n",
        "             print(\"Classes do modelo carregado:\", model.names)\n",
        "             print(f\"Número de classes (nc): {len(model.names)}\")\n",
        "        else:\n",
        "             print(\"!!! ERRO INESPERADO: Modelo carregado não tem 'names' ou não é uma lista válida.\")\n",
        "\n",
        "    except Exception as e:\n",
        "        print(f\"ERRO ao carregar o arquivo do modelo em {MODEL_PATH}: {e}\")\n",
        "        print(\"O arquivo pode estar corrompido. Verifique o caminho.\")\n",
        "        raise\n",
        "\n",
        "else:\n",
        "    print(f\"ERRO: Arquivo do modelo não encontrado em {MODEL_PATH}\")\n",
        "    print(\"Verifique se o caminho está correto no Google Drive e se o arquivo existe.\")\n",
        "    raise FileNotFoundError(f\"Modelo não encontrado: {MODEL_PATH}\")\n",
        "\n",
        "last_alert_time = {}\n",
        "\n",
        "PROJECT_DRIVE_PATH = '/content/drive/MyDrive/PosTech_IA_Devs_Hackathon'\n",
        "LOG_FILE_PATH = os.path.join(PROJECT_DRIVE_PATH, 'detection_alerts_final_delivery.log')\n",
        "print(f\"Alertas serão salvos em: {LOG_FILE_PATH}\")"
      ],
      "metadata": {
        "colab": {
          "base_uri": "https://localhost:8080/"
        },
        "id": "wA3GfUg556Be",
        "outputId": "a757fb46-68cd-4e69-8352-790def87a4cc"
      },
      "execution_count": null,
      "outputs": [
        {
          "output_type": "stream",
          "name": "stdout",
          "text": [
            "Carregando modelo FINAL: /content/drive/MyDrive/PosTech_IA_Devs_Hackathon/runs/detect/yolov8l_kc_v3_A100_final/weights/best.pt\n",
            "Modelo carregado com sucesso.\n",
            "!!! ERRO INESPERADO: Modelo carregado não tem 'names' ou não é uma lista válida.\n",
            "Alertas serão salvos em: /content/drive/MyDrive/PosTech_IA_Devs_Hackathon/detection_alerts_final_delivery.log\n"
          ]
        }
      ]
    },
    {
      "cell_type": "code",
      "source": [
        "# # Carrega as credenciais de e-mail dos Secrets do Colab\n",
        "# try:\n",
        "#     sender_email = userdata.get('SENDER_EMAIL')\n",
        "#     email_password = userdata.get('EMAIL_PASSWORD')\n",
        "#     receiver_email = userdata.get('RECEIVER_EMAIL')\n",
        "\n",
        "#     if not sender_email or not email_password or not receiver_email:\n",
        "#         raise ValueError(\"Uma ou mais credenciais de e-mail não foram encontradas nos Secrets.\")\n",
        "#     print(\"Credenciais de e-mail carregadas dos Secrets.\")\n",
        "\n",
        "# except Exception as e:\n",
        "#     print(f\"ERRO ao carregar credenciais dos Secrets: {e}\")\n",
        "#     print(\"Verifique se os Secrets 'SENDER_EMAIL', 'EMAIL_PASSWORD', 'RECEIVER_EMAIL' foram criados corretamente e habilitados.\")\n"
      ],
      "metadata": {
        "id": "xdgGUWjJ66YH"
      },
      "execution_count": null,
      "outputs": []
    },
    {
      "cell_type": "code",
      "source": [
        "PROJECT_DRIVE_PATH = '/content/drive/MyDrive/PosTech_IA_Devs_Hackathon'\n",
        "LOG_FILE_PATH = os.path.join(PROJECT_DRIVE_PATH, 'detection_alerts.log')\n",
        "print(f\"Alertas serão salvos em: {LOG_FILE_PATH}\")\n",
        "\n",
        "def log_detection_alert(object_class, timestamp_str, confidence_pct):\n",
        "    \"\"\"Registra um alerta de detecção em um arquivo de log.\"\"\"\n",
        "    # Formata a mensagem de log com timestamp atual e detalhes da detecção\n",
        "    log_timestamp = time.strftime('%Y-%m-%d %H:%M:%S')\n",
        "    alert_message = f\"[{log_timestamp}] ALERTA: {object_class} | Tempo Vídeo: {timestamp_str} | Confiança: {confidence_pct:.1f}%\"\n",
        "\n",
        "    print(\"*\" * (len(alert_message) + 4))\n",
        "    print(f\"* {alert_message} *\")\n",
        "    print(\"*\" * (len(alert_message) + 4))\n",
        "\n",
        "    try:\n",
        "        with open(LOG_FILE_PATH, 'a+') as log_file:\n",
        "            log_file.write(alert_message + \"\\n\")\n",
        "        return True\n",
        "    except Exception as e:\n",
        "        print(f\"\\n!!! ERRO ao escrever no arquivo de log ({LOG_FILE_PATH}): {e} !!!\\n\")\n",
        "        return False\n",
        "\n",
        "if os.path.exists(LOG_FILE_PATH): os.remove(LOG_FILE_PATH)\n",
        "\n",
        "print(\"\\n--- Teste de Log ---\")\n",
        "test_logged = log_detection_alert(\"Foice de Teste\", \"00:15\", 88.8)\n",
        "print(f\"Resultado do teste de log: {test_logged}\")\n",
        "print(\"--- Fim do Teste de Log ---\\n\")"
      ],
      "metadata": {
        "id": "I8qKS_-o8O27",
        "colab": {
          "base_uri": "https://localhost:8080/"
        },
        "outputId": "aa58f1ef-5f95-45f6-cc6d-2fc7ad3a85aa"
      },
      "execution_count": null,
      "outputs": [
        {
          "output_type": "stream",
          "name": "stdout",
          "text": [
            "Alertas serão salvos em: /content/drive/MyDrive/PosTech_IA_Devs_Hackathon/detection_alerts.log\n",
            "\n",
            "--- Teste de Log ---\n",
            "****************************************************************************************\n",
            "* [2025-05-04 19:35:53] ALERTA: Foice de Teste | Tempo Vídeo: 00:15 | Confiança: 88.8% *\n",
            "****************************************************************************************\n",
            "Resultado do teste de log: True\n",
            "--- Fim do Teste de Log ---\n",
            "\n"
          ]
        }
      ]
    },
    {
      "cell_type": "code",
      "source": [
        "print(\"\\n--- Iniciando Processamento dos Vídeos ---\")\n",
        "\n",
        "PROCESSED_VIDEOS_DIR = os.path.join(PROJECT_DRIVE_PATH, 'processed_videos')\n",
        "os.makedirs(PROCESSED_VIDEOS_DIR, exist_ok=True)\n",
        "print(f\"Vídeos processados serão salvos em: {PROCESSED_VIDEOS_DIR}\")\n",
        "\n",
        "for video_path in VIDEO_TEST_PATHS:\n",
        "    print(f\"\\nProcessando vídeo: {video_path}\")\n",
        "    if not os.path.exists(video_path):\n",
        "        print(f\"ERRO: Vídeo não encontrado em {video_path}. Pulando.\")\n",
        "        continue\n",
        "\n",
        "    cap = cv2.VideoCapture(video_path)\n",
        "    if not cap.isOpened():\n",
        "        print(f\"ERRO: Não foi possível abrir o vídeo: {video_path}. Verifique o caminho e o formato.\")\n",
        "        continue\n",
        "\n",
        "    fps = cap.get(cv2.CAP_PROP_FPS)\n",
        "    if fps <= 0:\n",
        "        print(f\"Aviso: FPS do vídeo é inválido ({fps}). Usando 30 como padrão.\")\n",
        "        fps = 30.0\n",
        "    frame_width = int(cap.get(cv2.CAP_PROP_FRAME_WIDTH))\n",
        "    frame_height = int(cap.get(cv2.CAP_PROP_FRAME_HEIGHT))\n",
        "    print(f\"Info do Vídeo: {frame_width}x{frame_height} @ {fps:.2f} FPS\")\n",
        "\n",
        "    output_filename = f\"{os.path.splitext(os.path.basename(video_path))[0]}_processed_final_delivery.mp4\"\n",
        "    output_path = os.path.join(PROCESSED_VIDEOS_DIR, output_filename)\n",
        "    fourcc = cv2.VideoWriter_fourcc(*'mp4v')\n",
        "    if os.path.exists(output_path):\n",
        "        print(f\"Aviso: Arquivo de saída {output_path} já existe. Sobrescrevendo.\")\n",
        "\n",
        "    try:\n",
        "        out = cv2.VideoWriter(output_path, fourcc, fps, (frame_width, frame_height))\n",
        "        if not out.isOpened():\n",
        "             print(f\"!!! ERRO: Não foi possível inicializar cv2.VideoWriter para {output_path}. Verifique o codec ('mp4v'). !!!\")\n",
        "             cap.release()\n",
        "             continue\n",
        "        print(f\"Configurado para salvar vídeo processado em: {output_path}\")\n",
        "    except Exception as e_writer_init:\n",
        "        print(f\"!!! ERRO Inesperado ao inicializar VideoWriter: {e_writer_init} !!!\")\n",
        "        cap.release()\n",
        "        continue\n",
        "\n",
        "    frame_count = 0\n",
        "    processed_start_time = time.time()\n",
        "\n",
        "    while True:\n",
        "        ret, frame = cap.read()\n",
        "        if not ret:\n",
        "            print(\"Fim da leitura do vídeo ou erro.\")\n",
        "            break\n",
        "\n",
        "        frame_count += 1\n",
        "\n",
        "        try:\n",
        "            results = model(frame, verbose=False)\n",
        "        except Exception as e_inference:\n",
        "             print(f\"!!! ERRO durante a inferência no frame {frame_count}: {e_inference} !!! Pulando inferência para este frame.\")\n",
        "             annotated_frame = frame.copy()\n",
        "             results = None\n",
        "             pass\n",
        "\n",
        "        current_msec = cap.get(cv2.CAP_PROP_POS_MSEC)\n",
        "        total_seconds = current_msec / 1000.0\n",
        "        minutes = int(total_seconds // 60)\n",
        "        seconds = int(total_seconds % 60)\n",
        "        milliseconds = int((total_seconds - minutes * 60 - seconds) * 1000)\n",
        "        timestamp_str = f\"{minutes:02d}:{seconds:02d}:{milliseconds:03d}\"\n",
        "\n",
        "        annotated_frame = frame.copy()\n",
        "        if results is not None and isinstance(results, list) and len(results) > 0:\n",
        "            try:\n",
        "                 annotated_frame = results[0].plot()\n",
        "            except Exception as e_plot:\n",
        "                 print(f\"      !!! ERRO ao plotar frame {frame_count}: {e_plot} !!! Usando frame original.\")\n",
        "\n",
        "        try:\n",
        "            out.write(annotated_frame)\n",
        "        except Exception as e_write:\n",
        "             print(f\"      !!! ERRO ao escrever frame {frame_count}: {e_write} !!!\")\n",
        "             pass\n",
        "\n",
        "        if results is not None and isinstance(results, list) and len(results) > 0 and hasattr(results[0], 'boxes') and results[0].boxes is not None:\n",
        "            for box in results[0].boxes:\n",
        "                try:\n",
        "                    confidence = box.conf[0].item()\n",
        "                    class_id = int(box.cls[0].item())\n",
        "\n",
        "                    if confidence >= CONFIDENCE_THRESHOLD:\n",
        "                        object_class = \"Objeto Cortante Detectado\"\n",
        "\n",
        "                        try:\n",
        "                            object_class_named = model.names[class_id]\n",
        "                        except Exception:\n",
        "                            object_class_named = f\"Classe {class_id} (Nome Desconhecido)\"\n",
        "\n",
        "\n",
        "                        confidence_pct = confidence * 100\n",
        "\n",
        "                        current_time = time.time()\n",
        "                        last_time_alerted = last_alert_time.get(object_class_named, 0)\n",
        "\n",
        "                        if (current_time - last_time_alerted) > COOLDOWN_SECONDS:\n",
        "                            alert_processed = log_detection_alert(object_class_named, timestamp_str, confidence_pct)\n",
        "                            if alert_processed:\n",
        "                                last_alert_time[object_class_named] = current_time\n",
        "\n",
        "                except Exception as e_alert_logic:\n",
        "                    print(f\"      !!! ERRO na lógica de alerta para uma box no frame {frame_count} ({timestamp_str}) !!!: {e_alert_logic}\")\n",
        "                    pass\n",
        "\n",
        "        if frame_count % int(fps) == 0:\n",
        "             elapsed_proc_time = time.time() - processed_start_time\n",
        "             print(f\"  Processado frame {frame_count}, Tempo no vídeo: {timestamp_str}, Tempo decorrido: {elapsed_proc_time:.1f}s\")\n",
        "\n",
        "    print(f\"\\nFinalizando processamento do vídeo {os.path.basename(video_path)}.\")\n",
        "    cap.release()\n",
        "    if 'out' in locals() and out.isOpened():\n",
        "        out.release()\n",
        "        print(f\"Gravador de vídeo liberado. Arquivo salvo em: {output_path}\")\n",
        "    elif 'out' in locals():\n",
        "        print(f\"Gravador de vídeo ('out') foi definido mas não estava aberto no final.\")\n",
        "    else:\n",
        "        print(\"Gravador de vídeo ('out') não foi definido.\")\n",
        "\n",
        "\n",
        "    processed_end_time = time.time()\n",
        "    print(f\"Vídeo {os.path.basename(video_path)} processado e salvo em {output_path} em {processed_end_time - processed_start_time:.2f} segundos.\")\n",
        "\n",
        "print(\"\\n--- Processamento de Todos os Vídeos Concluído ---\")"
      ],
      "metadata": {
        "id": "Phy4p6CpRzoy",
        "colab": {
          "base_uri": "https://localhost:8080/"
        },
        "outputId": "30b38fec-f06f-4a07-c5e6-4c894d17191f"
      },
      "execution_count": null,
      "outputs": [
        {
          "output_type": "stream",
          "name": "stdout",
          "text": [
            "\n",
            "--- Iniciando Processamento dos Vídeos ---\n",
            "Vídeos processados serão salvos em: /content/drive/MyDrive/PosTech_IA_Devs_Hackathon/processed_videos\n",
            "\n",
            "Processando vídeo: /content/drive/MyDrive/PosTech_IA_Devs_Hackathon/video.mp4\n",
            "Info do Vídeo: 1920x1080 @ 30.00 FPS\n",
            "Configurado para salvar vídeo processado em: /content/drive/MyDrive/PosTech_IA_Devs_Hackathon/processed_videos/video_processed_final_delivery.mp4\n",
            "  Processado frame 30, Tempo no vídeo: 00:00:966, Tempo decorrido: 5.9s\n",
            "  Processado frame 60, Tempo no vídeo: 00:01:966, Tempo decorrido: 7.1s\n",
            "***********************************************************************************\n",
            "* [2025-05-04 19:36:07] ALERTA: knife | Tempo Vídeo: 00:02:800 | Confiança: 65.4% *\n",
            "***********************************************************************************\n",
            "  Processado frame 90, Tempo no vídeo: 00:02:966, Tempo decorrido: 8.5s\n",
            "  Processado frame 120, Tempo no vídeo: 00:03:966, Tempo decorrido: 10.1s\n",
            "***********************************************************************************\n",
            "* [2025-05-04 19:36:11] ALERTA: knife | Tempo Vídeo: 00:04:833 | Confiança: 66.1% *\n",
            "***********************************************************************************\n",
            "  Processado frame 150, Tempo no vídeo: 00:04:966, Tempo decorrido: 12.0s\n",
            "  Processado frame 180, Tempo no vídeo: 00:05:966, Tempo decorrido: 13.8s\n",
            "  Processado frame 210, Tempo no vídeo: 00:06:966, Tempo decorrido: 15.0s\n",
            "  Processado frame 240, Tempo no vídeo: 00:07:966, Tempo decorrido: 16.3s\n",
            "  Processado frame 270, Tempo no vídeo: 00:08:966, Tempo decorrido: 17.6s\n",
            "  Processado frame 300, Tempo no vídeo: 00:09:966, Tempo decorrido: 18.8s\n",
            "  Processado frame 330, Tempo no vídeo: 00:10:966, Tempo decorrido: 20.1s\n",
            "  Processado frame 360, Tempo no vídeo: 00:11:966, Tempo decorrido: 21.4s\n",
            "  Processado frame 390, Tempo no vídeo: 00:12:966, Tempo decorrido: 22.7s\n",
            "  Processado frame 420, Tempo no vídeo: 00:13:966, Tempo decorrido: 24.3s\n",
            "  Processado frame 450, Tempo no vídeo: 00:14:966, Tempo decorrido: 26.2s\n",
            "  Processado frame 480, Tempo no vídeo: 00:15:966, Tempo decorrido: 27.7s\n",
            "  Processado frame 510, Tempo no vídeo: 00:16:966, Tempo decorrido: 29.0s\n",
            "  Processado frame 540, Tempo no vídeo: 00:17:966, Tempo decorrido: 30.3s\n",
            "  Processado frame 570, Tempo no vídeo: 00:18:966, Tempo decorrido: 31.5s\n",
            "  Processado frame 600, Tempo no vídeo: 00:19:966, Tempo decorrido: 32.8s\n",
            "  Processado frame 630, Tempo no vídeo: 00:20:966, Tempo decorrido: 34.1s\n",
            "  Processado frame 660, Tempo no vídeo: 00:21:966, Tempo decorrido: 35.5s\n",
            "  Processado frame 690, Tempo no vídeo: 00:22:966, Tempo decorrido: 36.8s\n",
            "  Processado frame 720, Tempo no vídeo: 00:23:966, Tempo decorrido: 38.5s\n",
            "  Processado frame 750, Tempo no vídeo: 00:24:966, Tempo decorrido: 40.2s\n",
            "  Processado frame 780, Tempo no vídeo: 00:25:966, Tempo decorrido: 41.4s\n",
            "  Processado frame 810, Tempo no vídeo: 00:26:966, Tempo decorrido: 42.7s\n",
            "  Processado frame 840, Tempo no vídeo: 00:27:966, Tempo decorrido: 44.0s\n",
            "  Processado frame 870, Tempo no vídeo: 00:28:966, Tempo decorrido: 45.3s\n",
            "  Processado frame 900, Tempo no vídeo: 00:29:966, Tempo decorrido: 46.5s\n",
            "  Processado frame 930, Tempo no vídeo: 00:30:966, Tempo decorrido: 47.7s\n",
            "  Processado frame 960, Tempo no vídeo: 00:31:966, Tempo decorrido: 48.8s\n",
            "  Processado frame 990, Tempo no vídeo: 00:32:966, Tempo decorrido: 49.9s\n",
            "  Processado frame 1020, Tempo no vídeo: 00:33:966, Tempo decorrido: 51.2s\n",
            "  Processado frame 1050, Tempo no vídeo: 00:34:966, Tempo decorrido: 53.1s\n",
            "***********************************************************************************\n",
            "* [2025-05-04 19:36:52] ALERTA: knife | Tempo Vídeo: 00:35:033 | Confiança: 65.1% *\n",
            "***********************************************************************************\n",
            "  Processado frame 1080, Tempo no vídeo: 00:35:966, Tempo decorrido: 54.7s\n",
            "  Processado frame 1110, Tempo no vídeo: 00:36:966, Tempo decorrido: 56.1s\n",
            "  Processado frame 1140, Tempo no vídeo: 00:37:966, Tempo decorrido: 57.3s\n",
            "  Processado frame 1170, Tempo no vídeo: 00:38:966, Tempo decorrido: 58.5s\n",
            "  Processado frame 1200, Tempo no vídeo: 00:39:966, Tempo decorrido: 59.6s\n",
            "  Processado frame 1230, Tempo no vídeo: 00:40:966, Tempo decorrido: 60.8s\n",
            "  Processado frame 1260, Tempo no vídeo: 00:41:966, Tempo decorrido: 62.0s\n",
            "Fim da leitura do vídeo ou erro.\n",
            "\n",
            "Finalizando processamento do vídeo video.mp4.\n",
            "Gravador de vídeo liberado. Arquivo salvo em: /content/drive/MyDrive/PosTech_IA_Devs_Hackathon/processed_videos/video_processed_final_delivery.mp4\n",
            "Vídeo video.mp4 processado e salvo em /content/drive/MyDrive/PosTech_IA_Devs_Hackathon/processed_videos/video_processed_final_delivery.mp4 em 62.14 segundos.\n",
            "\n",
            "--- Processamento de Todos os Vídeos Concluído ---\n"
          ]
        }
      ]
    }
  ]
}